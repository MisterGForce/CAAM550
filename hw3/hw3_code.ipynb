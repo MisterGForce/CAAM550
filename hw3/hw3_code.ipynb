{
 "cells": [
  {
   "cell_type": "markdown",
   "id": "5e902b65",
   "metadata": {},
   "source": [
    "Michael Goforth\n",
    "CAAM 550 \n",
    "HW 3\n",
    "9/15/2021"
   ]
  },
  {
   "cell_type": "code",
   "execution_count": 3,
   "id": "5bd443bf",
   "metadata": {},
   "outputs": [],
   "source": [
    "import math\n",
    "import numpy as np\n",
    "import matplotlib.pyplot as plt"
   ]
  },
  {
   "cell_type": "markdown",
   "id": "671fb228",
   "metadata": {},
   "source": [
    "### Problem 2c"
   ]
  },
  {
   "cell_type": "code",
   "execution_count": 36,
   "id": "fbef0e91",
   "metadata": {},
   "outputs": [
    {
     "data": {
      "text/plain": [
       "<matplotlib.legend.Legend at 0x1c63cca4b20>"
      ]
     },
     "execution_count": 36,
     "metadata": {},
     "output_type": "execute_result"
    },
    {
     "data": {
      "image/png": "[encoded data removed]",
      "text/plain": [
       "<Figure size 432x432 with 1 Axes>"
      ]
     },
     "metadata": {
      "needs_background": "light"
     },
     "output_type": "display_data"
    }
   ],
   "source": [
    "fig, ax = plt.subplots()\n",
    "fig.set_size_inches(6, 6)\n",
    "\n",
    "# plot span(v)\n",
    "v = np.array([-8, 12])\n",
    "vx = [v[0] * i for i in np.linspace(-10, 10)]\n",
    "vy = [v[1] * i for i in np.linspace(-10, 10)]\n",
    "plt.plot(vx, vy, 'k:', label='v')\n",
    "\n",
    "# plot span(v_perp)\n",
    "v_p = np.array([12, 8])\n",
    "vx_p = [v_p[0] * i for i in np.linspace(-10, 10)]\n",
    "vy_p = [v_p[1] * i for i in np.linspace(-10, 10)]\n",
    "plt.plot(vx_p, vy_p, 'c:', label='v_perp')\n",
    "\n",
    "# plot x vector\n",
    "x = np.array([5, 12])\n",
    "plt.plot([0, x[0]], [0, x[1]], 'r', label='x')\n",
    "\n",
    "# plot Px\n",
    "P = np.array([[9/13, 6/13], [6/13, 4/13]])\n",
    "px = P @ x\n",
    "plt.plot([0, px[0]], [0, px[1]], 'm', label='Px')\n",
    "\n",
    "# plot (I - P)x\n",
    "IPx = (np.identity(2) - P) @ x\n",
    "plt.plot([0, IPx[0]], [0, IPx[1]], 'b', label='(I-P)x')\n",
    "\n",
    "# plot H(v)x\n",
    "H = np.array([[5/13, 12/13], [12/13, -5/13]])\n",
    "Hx = H @ x\n",
    "plt.plot([0, Hx[0]], [0, Hx[1]], 'g', label='H(v)x') \n",
    "\n",
    "plt.xlim([-15, 15])\n",
    "plt.ylim([-15, 15])\n",
    "plt.legend()\n"
   ]
  },
  {
   "cell_type": "markdown",
   "id": "7d6c9d44",
   "metadata": {},
   "source": [
    "### Problem 3b"
   ]
  },
  {
   "cell_type": "code",
   "execution_count": 1,
   "id": "24f0552a",
   "metadata": {},
   "outputs": [
    {
     "name": "stdout",
     "output_type": "stream",
     "text": [
      "Q = [[-0.70710678 -0.66666667 -0.23570226]\n",
      " [ 0.70710678 -0.66666667 -0.23570226]\n",
      " [-0.         -0.33333333  0.94280904]]\n",
      "R = [[-1.41421356e+00  6.66133815e-16 -1.41421356e+00]\n",
      " [ 0.00000000e+00 -3.00000000e+00 -3.00000000e+00]\n",
      " [ 0.00000000e+00  0.00000000e+00 -1.14863726e-16]]\n"
     ]
    }
   ],
   "source": [
    "A = np.array([[1, 2, 3], [-1, 2, 1], [0, 1, 1]])\n",
    "Q, R = np.linalg.qr(A)\n",
    "print(\"Q = \" + str(Q))\n",
    "print(\"R = \" + str(R))"
   ]
  },
  {
   "cell_type": "markdown",
   "id": "4b7b48a2",
   "metadata": {},
   "source": [
    "### Problem 4"
   ]
  },
  {
   "cell_type": "code",
   "execution_count": 2,
   "id": "6266b1d4",
   "metadata": {},
   "outputs": [],
   "source": [
    "def multiQR(A, j=10):\n",
    "    '''Function as described in problem 4 of HW3.  \n",
    "    \n",
    "    Parameters\n",
    "    ----------\n",
    "    A : np.array\n",
    "        matrix to be decomposed\n",
    "    j : value (optional, default = 10)\n",
    "        number of iterations of QR decomposition\n",
    "           \n",
    "    Returns\n",
    "    -------\n",
    "    A_j : np.array\n",
    "          resulting matrix.  A_j = (Q_0 Q_1 ... Q_j-1)^T A_0 (Q_0 Q_1 ... Q_j-1)\n",
    "           \n",
    "    Michael Goforth\n",
    "    CAAM 550\n",
    "    Rice University\n",
    "    September 15, 2021\n",
    "    '''\n",
    "    \n",
    "    for i in range(j):\n",
    "        Q, R = np.linalg.qr(A)\n",
    "        A = R @ Q\n",
    "    return A"
   ]
  },
  {
   "cell_type": "code",
   "execution_count": 54,
   "id": "0aa488fa",
   "metadata": {},
   "outputs": [
    {
     "name": "stdout",
     "output_type": "stream",
     "text": [
      "Matrix A:\n",
      "[[ 3 -5]\n",
      " [-5  3]]\n",
      "Eigenvalues: [ 8. -2.]\n",
      "A after 10 iterations: \n",
      "[[ 8.00000000e+00 -9.53674316e-06]\n",
      " [-9.53674316e-06 -2.00000000e+00]]\n",
      "A after 11 iterations: \n",
      "[[ 8.00000000e+00 -2.38418579e-06]\n",
      " [-2.38418579e-06 -2.00000000e+00]]\n"
     ]
    }
   ],
   "source": [
    "# Matrix trial 1\n",
    "A = np.array([[3, -5], [-5, 3]])\n",
    "A10 = multiQR(A, 10)\n",
    "A11 = multiQR(A, 11)\n",
    "\n",
    "print('Matrix A:')\n",
    "print(str(A))\n",
    "print('Eigenvalues: ' + str(np.linalg.eig(A)[0]))\n",
    "print('A after 10 iterations: ')\n",
    "print(str(A10))\n",
    "print('A after 11 iterations: ')\n",
    "print(str(A11))"
   ]
  },
  {
   "cell_type": "code",
   "execution_count": 72,
   "id": "47325b7b",
   "metadata": {},
   "outputs": [
    {
     "name": "stdout",
     "output_type": "stream",
     "text": [
      "Matrix B:\n",
      "[[ 2 -5]\n",
      " [ 1  3]]\n",
      "Eigenvalues: [2.5+2.17944947j 2.5-2.17944947j]\n",
      "B after 100 iterations: \n",
      "[[ 0.44712643 -2.81102877]\n",
      " [ 3.18897123  4.55287357]]\n",
      "B after 101 iterations: \n",
      "[[ 4.52568494  2.61711554]\n",
      " [-3.38288446  0.47431506]]\n"
     ]
    }
   ],
   "source": [
    "# Matrix trial 2\n",
    "B = np.array([[2, -5], [1, 3]])\n",
    "B10 = multiQR(B, 10000)\n",
    "B11 = multiQR(B, 10001)\n",
    "\n",
    "print('Matrix B:')\n",
    "print(str(B))\n",
    "print('Eigenvalues: ' + str(np.linalg.eig(B)[0]))\n",
    "print('B after 100 iterations: ')\n",
    "print(str(B10))\n",
    "print('B after 101 iterations: ')\n",
    "print(str(B11))"
   ]
  },
  {
   "cell_type": "code",
   "execution_count": 59,
   "id": "ee9b672d",
   "metadata": {},
   "outputs": [
    {
     "name": "stdout",
     "output_type": "stream",
     "text": [
      "Matrix C:\n",
      "[[3 2]\n",
      " [7 3]]\n",
      "Eigenvalues: [ 6.74165739 -0.74165739]\n",
      "A after 10 iterations: \n",
      "[[ 6.74165739e+00 -5.00000000e+00]\n",
      " [ 1.61551876e-09 -7.41657388e-01]]\n",
      "A after 11 iterations: \n",
      "[[ 6.74165739e+00  5.00000000e+00]\n",
      " [ 1.77725054e-10 -7.41657387e-01]]\n"
     ]
    }
   ],
   "source": [
    "# Matrix trial 3\n",
    "C = np.array([[3, 2], [7, 3]])\n",
    "C10 = multiQR(C, 10)\n",
    "C11 = multiQR(C, 11)\n",
    "\n",
    "print('Matrix C:')\n",
    "print(str(C))\n",
    "print('Eigenvalues: ' + str(np.linalg.eig(C)[0]))\n",
    "print('A after 10 iterations: ')\n",
    "print(str(C10))\n",
    "print('A after 11 iterations: ')\n",
    "print(str(C11))"
   ]
  }
 ],
 "metadata": {
  "kernelspec": {
   "display_name": "Python 3 (ipykernel)",
   "language": "python",
   "name": "python3"
  },
  "language_info": {
   "codemirror_mode": {
    "name": "ipython",
    "version": 3
   },
   "file_extension": ".py",
   "mimetype": "text/x-python",
   "name": "python",
   "nbconvert_exporter": "python",
   "pygments_lexer": "ipython3",
   "version": "3.8.8"
  }
 },
 "nbformat": 4,
 "nbformat_minor": 5
}
